{
 "cells": [
  {
   "cell_type": "code",
   "execution_count": 1,
   "metadata": {},
   "outputs": [],
   "source": [
    "# Load libraries necessary for demo\n",
    "from elasticsearch import Elasticsearch\n",
    "from elasticsearch import helpers\n",
    "from elasticsearch_dsl import Search\n",
    "import es # This is part of this GitHub Repo\n",
    "import retention # This is part of this GitHub Repo\n",
    "import rollover # This is part of this GitHub Repo\n",
    "import pandas as pd\n",
    "import toml\n",
    "import os\n",
    "import json"
   ]
  },
  {
   "cell_type": "code",
   "execution_count": 2,
   "metadata": {},
   "outputs": [],
   "source": [
    "# Connect to Elasticsearch\n",
    "es_connection = Elasticsearch('http://localhost:9200')"
   ]
  },
  {
   "cell_type": "code",
   "execution_count": 3,
   "metadata": {},
   "outputs": [
    {
     "data": {
      "text/plain": [
       "{'acknowledged': True}"
      ]
     },
     "execution_count": 3,
     "metadata": {},
     "output_type": "execute_result"
    }
   ],
   "source": [
    "# Cleanup previous demo data - optional\n",
    "# Will throw errors if index does not exist - not a big deal\n",
    "es_connection.indices.delete(index=\"demo-nessus*\")\n",
    "es_connection.indices.delete(index=\"demo-suricata*\")"
   ]
  },
  {
   "cell_type": "code",
   "execution_count": 4,
   "metadata": {},
   "outputs": [
    {
     "data": {
      "text/plain": [
       "True"
      ]
     },
     "execution_count": 4,
     "metadata": {},
     "output_type": "execute_result"
    }
   ],
   "source": [
    "# This creates a rollover instance with an index aliases to demo-nessus\n",
    "es_connection.indices.create(index=\"demo-nessus-000001\", body='{\"aliases\": { \"demo-nessus\": { \"is_write_index\": true }}}')\n",
    "# Load Nessus sample data - Uses bulk insertion\n",
    "nessus_data = es.load_json_file('demo/logs/nessus.json')\n",
    "es.bulk_insert_data_to_es(es_connection, nessus_data, \"demo-nessus\")"
   ]
  },
  {
   "cell_type": "code",
   "execution_count": 5,
   "metadata": {},
   "outputs": [
    {
     "data": {
      "text/plain": [
       "True"
      ]
     },
     "execution_count": 5,
     "metadata": {},
     "output_type": "execute_result"
    }
   ],
   "source": [
    "# This creates a rollover instance with an index aliases to demo-suricata\n",
    "# This can take a minute or two to run\n",
    "es_connection.indices.create(index=\"demo-suricata-000001\", body='{\"aliases\": { \"demo-suricata\": { \"is_write_index\": true }}}')\n",
    "# Load Suricata sample data - Uses bulk insertion\n",
    "suricata_data = es.load_json_file('demo/logs/suricata.json')\n",
    "es.bulk_insert_data_to_es(es_connection, suricata_data, \"demo-suricata\")"
   ]
  },
  {
   "cell_type": "code",
   "execution_count": null,
   "metadata": {},
   "outputs": [],
   "source": [
    "# Set our demo search context - will search suricata and nessus data\n",
    "search_context = Search(using=es_connection, index='demo-*', doc_type='doc')"
   ]
  },
  {
   "cell_type": "code",
   "execution_count": null,
   "metadata": {},
   "outputs": [],
   "source": [
    "# Test query data from Suricata\n",
    "s = search_context.query('query_string', query='src_ip:172.16.0.2 AND dest_port:80')\n",
    "response = s.execute()\n",
    "if response.success():\n",
    "    df = pd.DataFrame((d.to_dict() for d in s.scan()))\n",
    "df"
   ]
  },
  {
   "cell_type": "code",
   "execution_count": null,
   "metadata": {},
   "outputs": [],
   "source": [
    "def query_es(index, query):\n",
    "    search_context = Search(using=es_connection, index=index, doc_type=query)\n",
    "    s = search_context.query('query_string', query=query)\n",
    "    response = s.execute()\n",
    "    if response.success():\n",
    "        df = pd.DataFrame((d.to_dict() for d in s.scan()))\n",
    "        return df"
   ]
  },
  {
   "cell_type": "code",
   "execution_count": null,
   "metadata": {},
   "outputs": [],
   "source": [
    "# Test the new function\n",
    "query_es(\"demo-nessus\",\"Category:Services\")"
   ]
  },
  {
   "cell_type": "code",
   "execution_count": null,
   "metadata": {},
   "outputs": [],
   "source": [
    "# In case you don't want a DataFrame, this function returns a standard list\n",
    "def query_es_return_list(index, query):\n",
    "    search_context = Search(using=es_connection, index=index, doc_type=query)\n",
    "    s = search_context.query('query_string', query=query)\n",
    "    response = s.execute()\n",
    "    if response.success():\n",
    "        return response['hits']['hits']"
   ]
  },
  {
   "cell_type": "code",
   "execution_count": null,
   "metadata": {},
   "outputs": [],
   "source": [
    "# Test the new function - results may be easier for standard Python automation\n",
    "query_es_return_list(\"demo-nessus\",\"Category:Services\")"
   ]
  },
  {
   "cell_type": "code",
   "execution_count": null,
   "metadata": {},
   "outputs": [],
   "source": [
    "# Get all indices in Elasticsearch Cluster\n",
    "es_connection.cat.indices(format=\"json\")"
   ]
  },
  {
   "cell_type": "code",
   "execution_count": null,
   "metadata": {},
   "outputs": [],
   "source": [
    "# Get all indices in Elasticsearch Cluster but with specific fields and format bytes to raw number\n",
    "# Also set full field names instead of short and sort by creation.date\n",
    "es_connection.cat.indices(format=\"json\", h=(\"health\",\"status\",\"index\",\"uuid\",\"shardsPrimary\",\"shardsReplica\",\"docsCount\",\"docsDeleted\",\"storeSize\",\"creation.date.string\",\"creation.date\",\"memory.total\", \"pri.store.size\"), s=\"creation.date\", bytes=\"b\")"
   ]
  },
  {
   "cell_type": "code",
   "execution_count": 6,
   "metadata": {},
   "outputs": [
    {
     "data": {
      "text/plain": [
       "'2021-01-08T00:22:46.255000'"
      ]
     },
     "execution_count": 6,
     "metadata": {},
     "output_type": "execute_result"
    }
   ],
   "source": [
    "# Find out what the newest document creation date is of a given index\n",
    "date = es.get_newest_document_date_in_index(\"\", \"demo-suricata\", es_connection)\n",
    "date.isoformat()"
   ]
  },
  {
   "cell_type": "code",
   "execution_count": 7,
   "metadata": {},
   "outputs": [
    {
     "data": {
      "text/plain": [
       "{'_shards': {'total': 2, 'successful': 1, 'failed': 0}}"
      ]
     },
     "execution_count": 7,
     "metadata": {},
     "output_type": "execute_result"
    }
   ],
   "source": [
    "# Forcemerge an index - Will timeout on normal-to-large indices\n",
    "# When this times out it continues to run in the background\n",
    "es_connection.indices.forcemerge(index='demo-suricata', max_num_segments=1)"
   ]
  },
  {
   "cell_type": "code",
   "execution_count": 8,
   "metadata": {},
   "outputs": [
    {
     "data": {
      "text/plain": [
       "{'cluster_name': 'demo',\n",
       " 'status': 'yellow',\n",
       " 'timed_out': False,\n",
       " 'number_of_nodes': 1,\n",
       " 'number_of_data_nodes': 1,\n",
       " 'active_primary_shards': 3,\n",
       " 'active_shards': 3,\n",
       " 'relocating_shards': 0,\n",
       " 'initializing_shards': 0,\n",
       " 'unassigned_shards': 2,\n",
       " 'delayed_unassigned_shards': 0,\n",
       " 'number_of_pending_tasks': 0,\n",
       " 'number_of_in_flight_fetch': 0,\n",
       " 'task_max_waiting_in_queue_millis': 0,\n",
       " 'active_shards_percent_as_number': 60.0}"
      ]
     },
     "execution_count": 8,
     "metadata": {},
     "output_type": "execute_result"
    }
   ],
   "source": [
    "# Check cluster health\n",
    "es_connection.cluster.health()"
   ]
  },
  {
   "cell_type": "code",
   "execution_count": 9,
   "metadata": {},
   "outputs": [
    {
     "name": "stdout",
     "output_type": "stream",
     "text": [
      "{'settings': {'client_json_folder': '/opt/elastic-ilm', 'debug': False, 'limit_to_client': '', 'password_authentication': False, 'ssl_enabled': False, 'ssl_certificate': 'disabled', 'check_hostname': False}, 'notification': {'smtp': 'disabled', 'ms-teams': 'disabled', 'jira': 'disabled'}, 'smtp': {'from_email': 'from@domain.com', 'username': 'user@domain.com', 'password': '', 'smtp_host': 'smtp.office365.com', 'smtp_port': 587}, 'ms-teams': {'webhook': ''}, 'retention': {'enabled': True, 'minutes_between_run': 60, 'health_check_level': 'yellow', 'ms-teams': True, 'jira': False}, 'rollover': {'enabled': True, 'minutes_between_run': 10, 'health_check_level': 'yellow', 'ms-teams': True, 'jira': False}, 'accounting': {'enabled': False, 'minutes_between_run': 240, 'output_folder': '', 'output_to_es': True, 'send_copy_to_client_name': '', 'health_check_level': 'green', 'retry_attempts': 10, 'retry_wait_in_seconds': 1200, 'fallback_health_check_level': 'yellow', 'ssd_cost': 0.03, 'sata_cost': 0.001, 'ms-teams': False, 'jira': False}}\n"
     ]
    }
   ],
   "source": [
    "# Load sample settings.toml and override a few settings for demo use\n",
    "settings = toml.load(\"settings.toml.example\")\n",
    "settings['settings']['client_json_folder'] = os.getcwd()\n",
    "settings['retention']['enabled'] = True\n",
    "settings['rollover']['enabled'] = True\n",
    "print(settings)"
   ]
  },
  {
   "cell_type": "code",
   "execution_count": 10,
   "metadata": {},
   "outputs": [
    {
     "name": "stdout",
     "output_type": "stream",
     "text": [
      "{'ca_file': '/home/jhenderson/elastic/ca.crt', 'es_host': 'localhost', 'es_port': 9200, 'ssl_enabled': False, 'ssl_certificate': 'required', 'check_hostname': False, 'password_authentication': False, 'es_user': 'elastic', 'es_password': 'password', 'policy': {'allocation': {'global': 30, '.monitoring': 7}, 'rollover': {'global': {'size': 'auto', 'days': 30}}, 'retention': {'global': 90, '.monitoring': 7, 'demo': 45}}}\n"
     ]
    }
   ],
   "source": [
    "# Load sample client.json.example and override a few settings for demo use\n",
    "with open('client.json.example') as f:\n",
    "    client_config = json.load(f)\n",
    "client_config['es_host'] = \"localhost\"\n",
    "client_config['policy']['retention']['demo'] = 45\n",
    "print(client_config)"
   ]
  },
  {
   "cell_type": "code",
   "execution_count": 11,
   "metadata": {},
   "outputs": [
    {
     "name": "stdout",
     "output_type": "stream",
     "text": [
      "demo\n"
     ]
    }
   ],
   "source": [
    "# Let's validate the retention policy is applying correcly against an index starting with demo\n",
    "retention_policies = es.get_retention_policy(client_config)\n",
    "index_policy = es.check_index_retention_policy(\"demo-suricata-000001\", retention_policies)\n",
    "# This should print demo if it grabbed the retention policy starting with demo\n",
    "print(index_policy)"
   ]
  },
  {
   "cell_type": "code",
   "execution_count": 12,
   "metadata": {},
   "outputs": [
    {
     "name": "stdout",
     "output_type": "stream",
     "text": [
      "demo-suricata\n"
     ]
    }
   ],
   "source": [
    "# Let's simulate having a policy apply for demo* but a more specific one winning for demo-suricata\n",
    "client_config['policy']['retention']['demo-suricata'] = 40\n",
    "index_policy = es.check_index_retention_policy(\"demo-suricata-000001\", retention_policies)\n",
    "# This should print demo-suricata if it grabbed the retention policy starting with demo-suricata\n",
    "print(index_policy)"
   ]
  },
  {
   "cell_type": "code",
   "execution_count": 13,
   "metadata": {},
   "outputs": [
    {
     "name": "stdout",
     "output_type": "stream",
     "text": [
      "global\n"
     ]
    }
   ],
   "source": [
    "# Same concept applies for rollover policies\n",
    "rollover_policies = rollover.get_rollover_policy(client_config)\n",
    "index_policy = es.check_index_rollover_policy(\"demo-suricata-000001\", rollover_policies)\n",
    "# This should print global because no rollover policy was created for demo\n",
    "print(index_policy)"
   ]
  },
  {
   "cell_type": "code",
   "execution_count": 14,
   "metadata": {},
   "outputs": [
    {
     "name": "stdout",
     "output_type": "stream",
     "text": [
      "demo\n"
     ]
    }
   ],
   "source": [
    "# Set rollover policy for demo and then test again\n",
    "client_config['policy']['rollover']['demo'] = {}\n",
    "client_config['policy']['rollover']['demo']['size'] = \"auto\"\n",
    "client_config['policy']['rollover']['demo']['days'] = 30\n",
    "index_policy = es.check_index_rollover_policy(\"demo-suricata-000001\", rollover_policies)\n",
    "# This should print demo because there now is a policy applying against indices starting with demo\n",
    "print(index_policy)"
   ]
  },
  {
   "cell_type": "code",
   "execution_count": 15,
   "metadata": {},
   "outputs": [
    {
     "data": {
      "text/plain": [
       "{'acknowledged': True}"
      ]
     },
     "execution_count": 15,
     "metadata": {},
     "output_type": "execute_result"
    }
   ],
   "source": [
    "# Policy is used to validate if something should be deleted, rolled over, etc.\n",
    "# Let's test a force rollover\n",
    "es.rollover_index_with_connection(client_config, \"demo-nessus-000001\", 'demo-nessus', es_connection)"
   ]
  },
  {
   "cell_type": "code",
   "execution_count": 20,
   "metadata": {},
   "outputs": [
    {
     "data": {
      "text/plain": [
       "[{'index': 'demo-nessus-000002', 'is_write_index': 'true'},\n",
       " {'index': 'demo-nessus-000001', 'is_write_index': 'false'}]"
      ]
     },
     "execution_count": 20,
     "metadata": {},
     "output_type": "execute_result"
    }
   ],
   "source": [
    "# Check to see if demo-nessus index was rolled over - if it did it should now be demo-nessus-000002\n",
    "es_connection.cat.aliases('demo-nessus', format=\"json\", h=(\"index\",\"is_write_index\"))"
   ]
  },
  {
   "cell_type": "code",
   "execution_count": 4,
   "metadata": {},
   "outputs": [
    {
     "ename": "TypeError",
     "evalue": "apply_retention_policies() missing 1 required positional argument: 'manual_client'",
     "output_type": "error",
     "traceback": [
      "\u001b[0;31m---------------------------------------------------------------------------\u001b[0m",
      "\u001b[0;31mTypeError\u001b[0m                                 Traceback (most recent call last)",
      "\u001b[0;32m<ipython-input-4-186c29a5a11a>\u001b[0m in \u001b[0;36m<module>\u001b[0;34m\u001b[0m\n\u001b[1;32m      2\u001b[0m \u001b[0;31m# AND client.json.example to client.json and make them able to connect to your demo cluster\u001b[0m\u001b[0;34m\u001b[0m\u001b[0;34m\u001b[0m\u001b[0;34m\u001b[0m\u001b[0m\n\u001b[1;32m      3\u001b[0m \u001b[0;31m#rollover.apply_rollover_policies(\"\")\u001b[0m\u001b[0;34m\u001b[0m\u001b[0;34m\u001b[0m\u001b[0;34m\u001b[0m\u001b[0m\n\u001b[0;32m----> 4\u001b[0;31m \u001b[0mretention\u001b[0m\u001b[0;34m.\u001b[0m\u001b[0mapply_retention_policies\u001b[0m\u001b[0;34m(\u001b[0m\u001b[0;34m\"\"\u001b[0m\u001b[0;34m)\u001b[0m\u001b[0;34m\u001b[0m\u001b[0;34m\u001b[0m\u001b[0m\n\u001b[0m",
      "\u001b[0;31mTypeError\u001b[0m: apply_retention_policies() missing 1 required positional argument: 'manual_client'"
     ]
    }
   ],
   "source": [
    "# THIS SECTION ONLY WORKS IF YOU COPY settings.toml.example TO settings.toml\n",
    "# AND client.json.example to client.json and make them able to connect to your demo cluster\n",
    "#rollover.apply_rollover_policies(\"\")\n",
    "retention.apply_retention_policies(\"yellow\", \"\")"
   ]
  },
  {
   "cell_type": "code",
   "execution_count": null,
   "metadata": {},
   "outputs": [],
   "source": []
  }
 ],
 "metadata": {
  "kernelspec": {
   "display_name": "Python 3",
   "language": "python",
   "name": "python3"
  },
  "language_info": {
   "codemirror_mode": {
    "name": "ipython",
    "version": 3
   },
   "file_extension": ".py",
   "mimetype": "text/x-python",
   "name": "python",
   "nbconvert_exporter": "python",
   "pygments_lexer": "ipython3",
   "version": "3.8.5"
  }
 },
 "nbformat": 4,
 "nbformat_minor": 4
}
